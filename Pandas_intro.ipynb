{
  "cells": [
    {
      "cell_type": "markdown",
      "metadata": {
        "id": "FiTfDpW0FZYX"
      },
      "source": [
        "# Pandas short introduction\n",
        "\n",
        "Pandas is one of the most widely used libraries for handling and manipulating structured data, such as CSV files, Excel sheets, or SQL databases. It provides efficient data structures like DataFrame and Series for handling large datasets, making it easy to clean, manipulate, and analyze tabular data.\n",
        "\n",
        "While PyTorch doesn't directly use Pandas DataFrames, they work together seamlessly.\n",
        "\n",
        "Loading Data: Datasets are often loaded into a Pandas DataFrame from various sources (CSV, Excel, SQL, etc.) for easier manipulation and cleaning before converting them into a format compatible with PyTorch. For example, tabular data may need to be converted into tensors before training a neural network.\n"
      ]
    },
    {
      "cell_type": "markdown",
      "metadata": {
        "id": "z2QUIeYIDbgt"
      },
      "source": [
        "Ensure you have pandas installed. If not, install it via pip:\n"
      ]
    },
    {
      "cell_type": "code",
      "execution_count": 1,
      "metadata": {
        "colab": {
          "base_uri": "https://localhost:8080/"
        },
        "id": "dCfhXAZRDM3e",
        "outputId": "0a56a38f-88d5-4655-d11f-9999ddff7ba2"
      },
      "outputs": [
        {
          "name": "stdout",
          "output_type": "stream",
          "text": [
            "Collecting pandas\n",
            "  Downloading pandas-2.2.3-cp312-cp312-macosx_11_0_arm64.whl.metadata (89 kB)\n",
            "Collecting numpy>=1.26.0 (from pandas)\n",
            "  Downloading numpy-2.1.2-cp312-cp312-macosx_14_0_arm64.whl.metadata (60 kB)\n",
            "Requirement already satisfied: python-dateutil>=2.8.2 in /Users/donnynguyen/Library/Python/3.12/lib/python/site-packages (from pandas) (2.9.0.post0)\n",
            "Collecting pytz>=2020.1 (from pandas)\n",
            "  Downloading pytz-2024.2-py2.py3-none-any.whl.metadata (22 kB)\n",
            "Collecting tzdata>=2022.7 (from pandas)\n",
            "  Downloading tzdata-2024.2-py2.py3-none-any.whl.metadata (1.4 kB)\n",
            "Requirement already satisfied: six>=1.5 in /Users/donnynguyen/Library/Python/3.12/lib/python/site-packages (from python-dateutil>=2.8.2->pandas) (1.16.0)\n",
            "Downloading pandas-2.2.3-cp312-cp312-macosx_11_0_arm64.whl (11.4 MB)\n",
            "\u001b[2K   \u001b[90m━━━━━━━━━━━━━━━━━━━━━━━━━━━━━━━━━━━━━━━━\u001b[0m \u001b[32m11.4/11.4 MB\u001b[0m \u001b[31m43.4 MB/s\u001b[0m eta \u001b[36m0:00:00\u001b[0m \u001b[36m0:00:01\u001b[0m\n",
            "\u001b[?25hDownloading numpy-2.1.2-cp312-cp312-macosx_14_0_arm64.whl (5.1 MB)\n",
            "\u001b[2K   \u001b[90m━━━━━━━━━━━━━━━━━━━━━━━━━━━━━━━━━━━━━━━━\u001b[0m \u001b[32m5.1/5.1 MB\u001b[0m \u001b[31m38.1 MB/s\u001b[0m eta \u001b[36m0:00:00\u001b[0m\n",
            "\u001b[?25hDownloading pytz-2024.2-py2.py3-none-any.whl (508 kB)\n",
            "Downloading tzdata-2024.2-py2.py3-none-any.whl (346 kB)\n",
            "Installing collected packages: pytz, tzdata, numpy, pandas\n",
            "Successfully installed numpy-2.1.2 pandas-2.2.3 pytz-2024.2 tzdata-2024.2\n",
            "Note: you may need to restart the kernel to use updated packages.\n"
          ]
        }
      ],
      "source": [
        "pip install pandas\n",
        "\n",
        "#or if you are using conda\n",
        "#conda install pandas"
      ]
    },
    {
      "cell_type": "markdown",
      "metadata": {
        "id": "2ZzsqKe7D-Cl"
      },
      "source": [
        "To use pandas, import it in your Python script or Jupyter notebook:"
      ]
    },
    {
      "cell_type": "code",
      "execution_count": 2,
      "metadata": {
        "id": "mcr28YgXEKYP"
      },
      "outputs": [],
      "source": [
        "import pandas as pd"
      ]
    },
    {
      "cell_type": "markdown",
      "metadata": {
        "id": "CKdR1J61ESMw"
      },
      "source": [
        "A Series is a one-dimensional array-like object that can hold any data type:"
      ]
    },
    {
      "cell_type": "code",
      "execution_count": 4,
      "metadata": {
        "colab": {
          "base_uri": "https://localhost:8080/"
        },
        "id": "PXI1byAUEQgj",
        "outputId": "486526eb-a640-43a9-a3ab-69535364b039"
      },
      "outputs": [
        {
          "name": "stdout",
          "output_type": "stream",
          "text": [
            "0    1\n",
            "1    2\n",
            "2    3\n",
            "3    4\n",
            "4    5\n",
            "dtype: int64\n"
          ]
        }
      ],
      "source": [
        "# Creating a simple series\n",
        "data = [1, 2, 3, 4, 5]\n",
        "s = pd.Series(data)\n",
        "\n",
        "# Display the series\n",
        "print(s)\n",
        "\n",
        "# pd.Series() creates a pandas Series.\n",
        "# A Series is like a column in a table, but it can also be used as a one-dimensional array."
      ]
    },
    {
      "cell_type": "markdown",
      "metadata": {
        "id": "I_z3mRWHEcKb"
      },
      "source": [
        "A DataFrame is a two-dimensional table, similar to a spreadsheet or SQL table:"
      ]
    },
    {
      "cell_type": "code",
      "execution_count": 5,
      "metadata": {
        "colab": {
          "base_uri": "https://localhost:8080/"
        },
        "id": "HMru_3L4EPLu",
        "outputId": "87562af4-985c-43bd-a21c-ef064fa9e57d"
      },
      "outputs": [
        {
          "name": "stdout",
          "output_type": "stream",
          "text": [
            "      Name  Age         City\n",
            "0    Alice   25     New York\n",
            "1      Bob   30  Los Angeles\n",
            "2  Charlie   35      Chicago\n",
            "3    David   40      Houston\n"
          ]
        }
      ],
      "source": [
        "# Creating a DataFrame\n",
        "data = {\n",
        "    'Name': ['Alice', 'Bob', 'Charlie', 'David'],\n",
        "    'Age': [25, 30, 35, 40],\n",
        "    'City': ['New York', 'Los Angeles', 'Chicago', 'Houston']\n",
        "}\n",
        "df = pd.DataFrame(data)\n",
        "\n",
        "# Display the DataFrame\n",
        "print(df)\n",
        "\n",
        "# pd.DataFrame() creates a DataFrame from a dictionary.\n",
        "# A DataFrame consists of rows and columns."
      ]
    },
    {
      "cell_type": "markdown",
      "metadata": {
        "id": "-Vm5RhJoEkc_"
      },
      "source": [
        "Pandas makes it easy to load data from external files, such as CSVs:"
      ]
    },
    {
      "cell_type": "code",
      "execution_count": 35,
      "metadata": {
        "colab": {
          "base_uri": "https://localhost:8080/",
          "height": 436
        },
        "id": "1Am-a2fnEmPM",
        "outputId": "bede5ec5-38b8-44f2-9659-b74f1df36810"
      },
      "outputs": [
        {
          "name": "stdout",
          "output_type": "stream",
          "text": [
            "      Name  Age        City   Salary       Degree Height  Weight\n",
            "0    Alice   30    New York   100000           CS    6'5     102\n",
            "1      Bob   15  Providence  2000000  Art History    4'5     103\n",
            "2  Charile   45     Chicago    50000         Math    3'7     104\n",
            "3    David   18      Boston    10000      Biology    7'5     105\n"
          ]
        }
      ],
      "source": [
        "# Reading data from a CSV file\n",
        "df = pd.read_csv('data.csv')\n",
        "\n",
        "# Display the first few rows of the DataFrame\n",
        "print(df.head())\n",
        "\n",
        "#pd.read_csv() reads a CSV file into a DataFrame.\n",
        "#df.head() shows the first 5 rows of the DataFrame."
      ]
    },
    {
      "cell_type": "markdown",
      "metadata": {
        "id": "1m64yic7Ex_u"
      },
      "source": [
        "Pandas provides many ways to manipulate your data:\n",
        "Here are some of the ways you can maipulate your data"
      ]
    },
    {
      "cell_type": "code",
      "execution_count": 34,
      "metadata": {
        "id": "CyGE2-BVE10O"
      },
      "outputs": [
        {
          "name": "stdout",
          "output_type": "stream",
          "text": [
            "0      Alice\n",
            "1        Bob\n",
            "2    Charile\n",
            "3      David\n",
            "Name: Name, dtype: object\n"
          ]
        }
      ],
      "source": [
        "# Select the 'Name' column\n",
        "print(df['Name'])"
      ]
    },
    {
      "cell_type": "code",
      "execution_count": 36,
      "metadata": {
        "id": "oE-PFw6XE7TU"
      },
      "outputs": [
        {
          "name": "stdout",
          "output_type": "stream",
          "text": [
            "      Name  Age     City  Salary Degree Height  Weight\n",
            "2  Charile   45  Chicago   50000   Math    3'7     104\n"
          ]
        }
      ],
      "source": [
        "# Filter rows where Age is greater than 30\n",
        "filtered_df = df[df['Age'] > 30]\n",
        "print(filtered_df)"
      ]
    },
    {
      "cell_type": "code",
      "execution_count": 37,
      "metadata": {
        "id": "wGUi5hZgE8kf"
      },
      "outputs": [
        {
          "name": "stdout",
          "output_type": "stream",
          "text": [
            "      Name  Age        City  Salary       Degree Height  Weight\n",
            "0    Alice   30    New York   70000           CS    6'5     102\n",
            "1      Bob   15  Providence   80000  Art History    4'5     103\n",
            "2  Charile   45     Chicago  120000         Math    3'7     104\n",
            "3    David   18      Boston   95000      Biology    7'5     105\n"
          ]
        }
      ],
      "source": [
        "# Add a new column to the DataFrame\n",
        "df['Salary'] = [70000, 80000, 120000, 95000]\n",
        "print(df)"
      ]
    },
    {
      "cell_type": "code",
      "execution_count": 38,
      "metadata": {
        "id": "R2GGJTzbE-B3"
      },
      "outputs": [
        {
          "name": "stdout",
          "output_type": "stream",
          "text": [
            "      Name  Age  Salary       Degree Height  Weight\n",
            "0    Alice   30   70000           CS    6'5     102\n",
            "1      Bob   15   80000  Art History    4'5     103\n",
            "2  Charile   45  120000         Math    3'7     104\n",
            "3    David   18   95000      Biology    7'5     105\n"
          ]
        }
      ],
      "source": [
        "# Drop the 'City' column\n",
        "df = df.drop(columns=['City'])\n",
        "print(df)"
      ]
    },
    {
      "cell_type": "markdown",
      "metadata": {
        "id": "ktX7W-MJFE3h"
      },
      "source": [
        "Pandas allows you to group and summarize your data:"
      ]
    },
    {
      "cell_type": "code",
      "execution_count": 45,
      "metadata": {
        "id": "7rcACk8MFG_O"
      },
      "outputs": [
        {
          "name": "stdout",
          "output_type": "stream",
          "text": [
            "Salary\n",
            "70000     30.0\n",
            "80000     15.0\n",
            "95000     18.0\n",
            "120000    45.0\n",
            "Name: Age, dtype: float64\n"
          ]
        }
      ],
      "source": [
        "# Group by 'Salary' and calculate the average 'Age'\n",
        "grouped_df = df.groupby('Salary')['Age'].mean()\n",
        "print(grouped_df)"
      ]
    },
    {
      "cell_type": "markdown",
      "metadata": {
        "id": "wKNDqAqKFJY4"
      },
      "source": [
        "After manipulating your data, you can save it to a CSV file:"
      ]
    },
    {
      "cell_type": "code",
      "execution_count": 47,
      "metadata": {
        "id": "dQPWCfMQFKvE"
      },
      "outputs": [],
      "source": [
        "# Save the DataFrame to a CSV file\n",
        "df.to_csv('output.csv', index=False)\n",
        "\n",
        "#df.to_csv() writes the DataFrame to a CSV file.\n",
        "#index=False ensures that the index is not saved to the file."
      ]
    }
  ],
  "metadata": {
    "colab": {
      "provenance": []
    },
    "kernelspec": {
      "display_name": "Python 3",
      "name": "python3"
    },
    "language_info": {
      "codemirror_mode": {
        "name": "ipython",
        "version": 3
      },
      "file_extension": ".py",
      "mimetype": "text/x-python",
      "name": "python",
      "nbconvert_exporter": "python",
      "pygments_lexer": "ipython3",
      "version": "3.12.5"
    }
  },
  "nbformat": 4,
  "nbformat_minor": 0
}
