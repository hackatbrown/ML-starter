{
 "cells": [
  {
   "cell_type": "markdown",
   "metadata": {},
   "source": [
    "# Jupyter Notebooks and Running Code in Sequence\n",
    "\n",
    "### Overview\n",
    "Jupyter notebooks are a great resource to run code sequentially, especially for\n",
    "machine learning models. Instead of having to retrain your model each time you\n",
    "run code, jupyter-notebooks allow for you to write code in a segmented progress\n",
    "and break apart steps. For more information, check out documentation at\n",
    "https://docs.jupyter.org/en/latest/ .\n",
    "\n",
    "Try out this short primer. The goal of this small notebook is to give you some\n",
    "idea regarding how you can use notebooks to run code-blocks."
   ]
  },
  {
   "cell_type": "code",
   "execution_count": 6,
   "metadata": {},
   "outputs": [
    {
     "name": "stdout",
     "output_type": "stream",
     "text": [
      "Hello, world!\n"
     ]
    }
   ],
   "source": [
    "# An example of a Jupyter notebook. You can run this notebook by clicking on\n",
    "# the \"Run\" button above! You can also click \"Shift\" + \"Enter\" to run the code\n",
    "# you're currently on. Pressing it multiple times will run multiple code blocks\n",
    "# in succession.\n",
    "\n",
    "print(\"Hello, world!\")"
   ]
  },
  {
   "cell_type": "markdown",
   "metadata": {},
   "source": [
    "#### **IMPORTANT!** Make sure that you've selected the specific environment that you set up in the previous step.\n",
    "\n",
    "If you are using VSCode, remember to “Select Interpreter” (Cmd + Shift + P) and select the previous installed environment. Also, make sure to change the kernel for the jupyter-notebook file in the upper-righthand corner of the notebook and select the specific environment.\n",
    "\n",
    "Potential Errors:\n",
    "- Check that you have activated the environment before starting your jupyter-notebook. You can activate the environment with “conda activate [env-name]” and deactivate with “conda deactivate”.\n",
    "- Check to see if you are using a conda environment in your jupyter-notebook. Create a code block by pressing the “+” symbol, type in “conda”, and run the block.\n",
    "    - If conda is installed, go back to the terminal and run “conda install [package name]” on packages that you cannot use. \n",
    "    - If conda is not installed, make sure to select your kernel as ‘ipykernel’ or your env name. If you are using ‘ipykernel’ or your env name does not exist, go back to the terminal and run the following:\n",
    "        - conda install jupyter\n",
    "        - conda install nb_conda\n",
    "        - conda install ipykernel\n",
    "        - python -m ipykernel install --user --name [whatever name you want here]\n",
    "    - Close jupyter-notebook and reopen. When running the jupyter notebook, make sure to set the kernel as your environment name."
   ]
  },
  {
   "cell_type": "markdown",
   "metadata": {},
   "source": [
    "### BACK TO THE PRIMER: \n",
    "\n",
    "We can also store variables that are used between blocks. This allows for local\n",
    "variables to be used in blocks that they weren't declared in! Be very careful to\n",
    "run blocks in order so that you don't run into an error like `NameError: name '???' is not defined`."
   ]
  },
  {
   "cell_type": "code",
   "execution_count": 7,
   "metadata": {},
   "outputs": [],
   "source": [
    "# Declaring a variable here!\n",
    "x = 10"
   ]
  },
  {
   "cell_type": "code",
   "execution_count": 9,
   "metadata": {},
   "outputs": [
    {
     "name": "stdout",
     "output_type": "stream",
     "text": [
      "The number is 10!\n"
     ]
    }
   ],
   "source": [
    "print(f'The number is {x}!')"
   ]
  },
  {
   "cell_type": "markdown",
   "metadata": {},
   "source": [
    "Now let's try out some imports from our environment. Make sure to follow the above\n",
    "instructions about running code from packages installed in your environment if you haven't \n",
    "already. \n",
    "\n",
    "One such thing we will try out is the `numpy` package. This library is very useful\n",
    "because it allows for a wide range of data manipulation techniques. For more details,\n",
    "see the documentation and possibilities [here](https://numpy.org/doc/). "
   ]
  },
  {
   "cell_type": "code",
   "execution_count": 11,
   "metadata": {},
   "outputs": [],
   "source": [
    "# If this code block doesn't pass, try some of the debugging tips in the block\n",
    "# above titled \"IMPORTANT\". These provide some common issues regarding environments\n",
    "# and their respective dependency installations.\n",
    "\n",
    "import numpy as np"
   ]
  },
  {
   "cell_type": "code",
   "execution_count": 13,
   "metadata": {},
   "outputs": [
    {
     "name": "stdout",
     "output_type": "stream",
     "text": [
      "Here is a 5x5 identity matrix: \n",
      " [[1. 0. 0. 0. 0.]\n",
      " [0. 1. 0. 0. 0.]\n",
      " [0. 0. 1. 0. 0.]\n",
      " [0. 0. 0. 1. 0.]\n",
      " [0. 0. 0. 0. 1.]]\n"
     ]
    }
   ],
   "source": [
    "# Testing out that numpy imports work!\n",
    "\n",
    "identityMatrix = np.identity(5)\n",
    "print(f'Here is a 5x5 identity matrix: \\n {identityMatrix}')"
   ]
  },
  {
   "cell_type": "markdown",
   "metadata": {},
   "source": [
    "### Imports from Other Files\n",
    "While it's useful to be able to run code sequentially so that it's visually presentable\n",
    "in a jupyter-notebook, it might be inconvenient to write all the relevant code here.\n",
    "Instead, it may be preferable to import functions other related information from code\n",
    "files that you've written. In this repository, we've provided you with a code file\n",
    "titled `sample.py`. This file contains a method titled `isOdd` which returns `true`\n",
    "when the inputted number is odd and `false` when it is not. Consider the following\n",
    "syntax."
   ]
  },
  {
   "cell_type": "code",
   "execution_count": 15,
   "metadata": {},
   "outputs": [
    {
     "name": "stdout",
     "output_type": "stream",
     "text": [
      "Yes!\n"
     ]
    }
   ],
   "source": [
    "import sample\n",
    "\n",
    "isOneOdd = \"Yes!\" if sample.isOdd(1) else \"No!\"\n",
    "\n",
    "print(isOneOdd)"
   ]
  },
  {
   "cell_type": "markdown",
   "metadata": {},
   "source": [
    "The provided code above is simple but is also included for the sake of pedagogy. \n",
    "If you choose to use jupyter-notebooks when creating your project, the complexity and\n",
    "scope is ultimately up to you.\n",
    "\n",
    "This concludes the jupyter-notebook primer section of the machine learning \n",
    "starter pack. Now feel free to move on to the [PyTorch guide](3-pytorch.ipynb) which\n",
    "will provide a more contextual guide on the PyTorch library!"
   ]
  }
 ],
 "metadata": {
  "kernelspec": {
   "display_name": "hack@brown",
   "language": "python",
   "name": "python3"
  },
  "language_info": {
   "codemirror_mode": {
    "name": "ipython",
    "version": 3
   },
   "file_extension": ".py",
   "mimetype": "text/x-python",
   "name": "python",
   "nbconvert_exporter": "python",
   "pygments_lexer": "ipython3",
   "version": "3.11.4"
  }
 },
 "nbformat": 4,
 "nbformat_minor": 2
}
